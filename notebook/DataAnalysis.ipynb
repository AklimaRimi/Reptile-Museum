{
  "nbformat": 4,
  "nbformat_minor": 0,
  "metadata": {
    "colab": {
      "provenance": [],
      "authorship_tag": "ABX9TyOzeXBNBmAe3zlF463Dsawj",
      "include_colab_link": true
    },
    "kernelspec": {
      "name": "python3",
      "display_name": "Python 3"
    },
    "language_info": {
      "name": "python"
    }
  },
  "cells": [
    {
      "cell_type": "markdown",
      "metadata": {
        "id": "view-in-github",
        "colab_type": "text"
      },
      "source": [
        "<a href=\"https://colab.research.google.com/github/AklimaRimi/Reptile-Museum/blob/main/notebook/DataAnalysis.ipynb\" target=\"_parent\"><img src=\"https://colab.research.google.com/assets/colab-badge.svg\" alt=\"Open In Colab\"/></a>"
      ]
    },
    {
      "cell_type": "code",
      "execution_count": 62,
      "metadata": {
        "id": "HuxxaXdbz35R",
        "colab": {
          "base_uri": "https://localhost:8080/"
        },
        "outputId": "c263b5db-1b5e-4239-b0f9-9d0e7718a219"
      },
      "outputs": [
        {
          "output_type": "stream",
          "name": "stdout",
          "text": [
            "fatal: destination path 'Reptile-Museum' already exists and is not an empty directory.\n"
          ]
        }
      ],
      "source": [
        "! git clone https://github.com/AklimaRimi/Reptile-Museum.git"
      ]
    },
    {
      "cell_type": "code",
      "source": [
        "import pandas as pd\n",
        "import numpy as np\n",
        "import matplotlib.pyplot as plt\n",
        "import seaborn as sns\n",
        "sns.set_palette('Set3')\n",
        "sns.set(rc={'axes.facecolor':'black', 'figure.facecolor':'grey'})"
      ],
      "metadata": {
        "id": "rrHP6ccI0iJ6"
      },
      "execution_count": 63,
      "outputs": []
    },
    {
      "cell_type": "code",
      "source": [
        "data = pd.read_csv('/content/Reptile-Museum/data/final_data.csv')\n",
        "data.head()"
      ],
      "metadata": {
        "colab": {
          "base_uri": "https://localhost:8080/",
          "height": 354
        },
        "id": "k6ve0AGE1Kzs",
        "outputId": "17704821-b6a2-4f10-a153-0103253a3778"
      },
      "execution_count": 64,
      "outputs": [
        {
          "output_type": "execute_result",
          "data": {
            "text/plain": [
              "                                               Image       Type  \\\n",
              "0  Reptile-Museum/augimg/Rafetus swinhoei/yRafetu...     Turtle   \n",
              "1  Reptile-Museum/augimg/Scelarcis perspicillata/...     Lizard   \n",
              "2  Reptile-Museum/augimg/Thamnophis sirtalis pari...      Snake   \n",
              "3  Reptile-Museum/augimg/Caretta caretta/xCaretta...     Turtle   \n",
              "4  Reptile-Museum/augimg/Mecistops cataphractus/y...  Crocodile   \n",
              "\n",
              "                                     Name                 Scientific Name  \\\n",
              "0         Yangtze giant softshell turtle                 Rafetus swinhoei   \n",
              "1                 Moroccan rock lizard            Scelarcis perspicillata   \n",
              "2                 Red-sided garter snake   Thamnophis sirtalis parietalis   \n",
              "3                  Loggerhead sea turtle                  Caretta caretta   \n",
              "4  West African Slender-snouted crocodile          Mecistops cataphractus   \n",
              "\n",
              "     Conservation Status          Habitant        Color            Found In  \\\n",
              "0  Critically Endangered             River  Olive-Green               China   \n",
              "1              Low Risk             Desert        Brown             Morocco   \n",
              "2              Low Risk          Wet Lands        Brown       North America   \n",
              "3              Low Risk              Ocean        Brown  All Over the World   \n",
              "4  Critically Endangered  Tropical Region    Dark-Brown              Angola   \n",
              "\n",
              "          Diet  \n",
              "0     Omnivore  \n",
              "1  Insectivore  \n",
              "2    Carnivore  \n",
              "3    Carnivore  \n",
              "4    Carnivore  "
            ],
            "text/html": [
              "\n",
              "  <div id=\"df-97f41a89-a59e-4837-8d9c-bf512cfeeb59\">\n",
              "    <div class=\"colab-df-container\">\n",
              "      <div>\n",
              "<style scoped>\n",
              "    .dataframe tbody tr th:only-of-type {\n",
              "        vertical-align: middle;\n",
              "    }\n",
              "\n",
              "    .dataframe tbody tr th {\n",
              "        vertical-align: top;\n",
              "    }\n",
              "\n",
              "    .dataframe thead th {\n",
              "        text-align: right;\n",
              "    }\n",
              "</style>\n",
              "<table border=\"1\" class=\"dataframe\">\n",
              "  <thead>\n",
              "    <tr style=\"text-align: right;\">\n",
              "      <th></th>\n",
              "      <th>Image</th>\n",
              "      <th>Type</th>\n",
              "      <th>Name</th>\n",
              "      <th>Scientific Name</th>\n",
              "      <th>Conservation Status</th>\n",
              "      <th>Habitant</th>\n",
              "      <th>Color</th>\n",
              "      <th>Found In</th>\n",
              "      <th>Diet</th>\n",
              "    </tr>\n",
              "  </thead>\n",
              "  <tbody>\n",
              "    <tr>\n",
              "      <th>0</th>\n",
              "      <td>Reptile-Museum/augimg/Rafetus swinhoei/yRafetu...</td>\n",
              "      <td>Turtle</td>\n",
              "      <td>Yangtze giant softshell turtle</td>\n",
              "      <td>Rafetus swinhoei</td>\n",
              "      <td>Critically Endangered</td>\n",
              "      <td>River</td>\n",
              "      <td>Olive-Green</td>\n",
              "      <td>China</td>\n",
              "      <td>Omnivore</td>\n",
              "    </tr>\n",
              "    <tr>\n",
              "      <th>1</th>\n",
              "      <td>Reptile-Museum/augimg/Scelarcis perspicillata/...</td>\n",
              "      <td>Lizard</td>\n",
              "      <td>Moroccan rock lizard</td>\n",
              "      <td>Scelarcis perspicillata</td>\n",
              "      <td>Low Risk</td>\n",
              "      <td>Desert</td>\n",
              "      <td>Brown</td>\n",
              "      <td>Morocco</td>\n",
              "      <td>Insectivore</td>\n",
              "    </tr>\n",
              "    <tr>\n",
              "      <th>2</th>\n",
              "      <td>Reptile-Museum/augimg/Thamnophis sirtalis pari...</td>\n",
              "      <td>Snake</td>\n",
              "      <td>Red-sided garter snake</td>\n",
              "      <td>Thamnophis sirtalis parietalis</td>\n",
              "      <td>Low Risk</td>\n",
              "      <td>Wet Lands</td>\n",
              "      <td>Brown</td>\n",
              "      <td>North America</td>\n",
              "      <td>Carnivore</td>\n",
              "    </tr>\n",
              "    <tr>\n",
              "      <th>3</th>\n",
              "      <td>Reptile-Museum/augimg/Caretta caretta/xCaretta...</td>\n",
              "      <td>Turtle</td>\n",
              "      <td>Loggerhead sea turtle</td>\n",
              "      <td>Caretta caretta</td>\n",
              "      <td>Low Risk</td>\n",
              "      <td>Ocean</td>\n",
              "      <td>Brown</td>\n",
              "      <td>All Over the World</td>\n",
              "      <td>Carnivore</td>\n",
              "    </tr>\n",
              "    <tr>\n",
              "      <th>4</th>\n",
              "      <td>Reptile-Museum/augimg/Mecistops cataphractus/y...</td>\n",
              "      <td>Crocodile</td>\n",
              "      <td>West African Slender-snouted crocodile</td>\n",
              "      <td>Mecistops cataphractus</td>\n",
              "      <td>Critically Endangered</td>\n",
              "      <td>Tropical Region</td>\n",
              "      <td>Dark-Brown</td>\n",
              "      <td>Angola</td>\n",
              "      <td>Carnivore</td>\n",
              "    </tr>\n",
              "  </tbody>\n",
              "</table>\n",
              "</div>\n",
              "      <button class=\"colab-df-convert\" onclick=\"convertToInteractive('df-97f41a89-a59e-4837-8d9c-bf512cfeeb59')\"\n",
              "              title=\"Convert this dataframe to an interactive table.\"\n",
              "              style=\"display:none;\">\n",
              "        \n",
              "  <svg xmlns=\"http://www.w3.org/2000/svg\" height=\"24px\"viewBox=\"0 0 24 24\"\n",
              "       width=\"24px\">\n",
              "    <path d=\"M0 0h24v24H0V0z\" fill=\"none\"/>\n",
              "    <path d=\"M18.56 5.44l.94 2.06.94-2.06 2.06-.94-2.06-.94-.94-2.06-.94 2.06-2.06.94zm-11 1L8.5 8.5l.94-2.06 2.06-.94-2.06-.94L8.5 2.5l-.94 2.06-2.06.94zm10 10l.94 2.06.94-2.06 2.06-.94-2.06-.94-.94-2.06-.94 2.06-2.06.94z\"/><path d=\"M17.41 7.96l-1.37-1.37c-.4-.4-.92-.59-1.43-.59-.52 0-1.04.2-1.43.59L10.3 9.45l-7.72 7.72c-.78.78-.78 2.05 0 2.83L4 21.41c.39.39.9.59 1.41.59.51 0 1.02-.2 1.41-.59l7.78-7.78 2.81-2.81c.8-.78.8-2.07 0-2.86zM5.41 20L4 18.59l7.72-7.72 1.47 1.35L5.41 20z\"/>\n",
              "  </svg>\n",
              "      </button>\n",
              "      \n",
              "  <style>\n",
              "    .colab-df-container {\n",
              "      display:flex;\n",
              "      flex-wrap:wrap;\n",
              "      gap: 12px;\n",
              "    }\n",
              "\n",
              "    .colab-df-convert {\n",
              "      background-color: #E8F0FE;\n",
              "      border: none;\n",
              "      border-radius: 50%;\n",
              "      cursor: pointer;\n",
              "      display: none;\n",
              "      fill: #1967D2;\n",
              "      height: 32px;\n",
              "      padding: 0 0 0 0;\n",
              "      width: 32px;\n",
              "    }\n",
              "\n",
              "    .colab-df-convert:hover {\n",
              "      background-color: #E2EBFA;\n",
              "      box-shadow: 0px 1px 2px rgba(60, 64, 67, 0.3), 0px 1px 3px 1px rgba(60, 64, 67, 0.15);\n",
              "      fill: #174EA6;\n",
              "    }\n",
              "\n",
              "    [theme=dark] .colab-df-convert {\n",
              "      background-color: #3B4455;\n",
              "      fill: #D2E3FC;\n",
              "    }\n",
              "\n",
              "    [theme=dark] .colab-df-convert:hover {\n",
              "      background-color: #434B5C;\n",
              "      box-shadow: 0px 1px 3px 1px rgba(0, 0, 0, 0.15);\n",
              "      filter: drop-shadow(0px 1px 2px rgba(0, 0, 0, 0.3));\n",
              "      fill: #FFFFFF;\n",
              "    }\n",
              "  </style>\n",
              "\n",
              "      <script>\n",
              "        const buttonEl =\n",
              "          document.querySelector('#df-97f41a89-a59e-4837-8d9c-bf512cfeeb59 button.colab-df-convert');\n",
              "        buttonEl.style.display =\n",
              "          google.colab.kernel.accessAllowed ? 'block' : 'none';\n",
              "\n",
              "        async function convertToInteractive(key) {\n",
              "          const element = document.querySelector('#df-97f41a89-a59e-4837-8d9c-bf512cfeeb59');\n",
              "          const dataTable =\n",
              "            await google.colab.kernel.invokeFunction('convertToInteractive',\n",
              "                                                     [key], {});\n",
              "          if (!dataTable) return;\n",
              "\n",
              "          const docLinkHtml = 'Like what you see? Visit the ' +\n",
              "            '<a target=\"_blank\" href=https://colab.research.google.com/notebooks/data_table.ipynb>data table notebook</a>'\n",
              "            + ' to learn more about interactive tables.';\n",
              "          element.innerHTML = '';\n",
              "          dataTable['output_type'] = 'display_data';\n",
              "          await google.colab.output.renderOutput(dataTable, element);\n",
              "          const docLink = document.createElement('div');\n",
              "          docLink.innerHTML = docLinkHtml;\n",
              "          element.appendChild(docLink);\n",
              "        }\n",
              "      </script>\n",
              "    </div>\n",
              "  </div>\n",
              "  "
            ]
          },
          "metadata": {},
          "execution_count": 64
        }
      ]
    },
    {
      "cell_type": "markdown",
      "source": [
        "### Basic EDA"
      ],
      "metadata": {
        "id": "Glq-lhuG1Q_L"
      }
    },
    {
      "cell_type": "code",
      "source": [
        "data.describe()"
      ],
      "metadata": {
        "colab": {
          "base_uri": "https://localhost:8080/",
          "height": 253
        },
        "id": "8gdlGhua1Qhy",
        "outputId": "76ca6e0b-10f7-43ac-f95f-bb19b807a8c5"
      },
      "execution_count": 65,
      "outputs": [
        {
          "output_type": "execute_result",
          "data": {
            "text/plain": [
              "                                                    Image   Type  \\\n",
              "count                                               45767  45767   \n",
              "unique                                              45767      4   \n",
              "top     Reptile-Museum/augimg/Rafetus swinhoei/yRafetu...  Snake   \n",
              "freq                                                    1  14135   \n",
              "\n",
              "                    Name          Scientific Name Conservation Status  \\\n",
              "count              45767                    45767               45767   \n",
              "unique               107                      108                   4   \n",
              "top     Black rat snake   Lycodonomorphus rufulus           Low Risk    \n",
              "freq                 920                      568               18503   \n",
              "\n",
              "       Habitant  Color       Found In       Diet  \n",
              "count     45767  45767          45767      45767  \n",
              "unique       29     34             45          4  \n",
              "top      Forest  Brown  North America  Carnivore  \n",
              "freq       8288   9896           6080      28135  "
            ],
            "text/html": [
              "\n",
              "  <div id=\"df-fe238b91-8305-4243-a49a-64ba5b1cf2da\">\n",
              "    <div class=\"colab-df-container\">\n",
              "      <div>\n",
              "<style scoped>\n",
              "    .dataframe tbody tr th:only-of-type {\n",
              "        vertical-align: middle;\n",
              "    }\n",
              "\n",
              "    .dataframe tbody tr th {\n",
              "        vertical-align: top;\n",
              "    }\n",
              "\n",
              "    .dataframe thead th {\n",
              "        text-align: right;\n",
              "    }\n",
              "</style>\n",
              "<table border=\"1\" class=\"dataframe\">\n",
              "  <thead>\n",
              "    <tr style=\"text-align: right;\">\n",
              "      <th></th>\n",
              "      <th>Image</th>\n",
              "      <th>Type</th>\n",
              "      <th>Name</th>\n",
              "      <th>Scientific Name</th>\n",
              "      <th>Conservation Status</th>\n",
              "      <th>Habitant</th>\n",
              "      <th>Color</th>\n",
              "      <th>Found In</th>\n",
              "      <th>Diet</th>\n",
              "    </tr>\n",
              "  </thead>\n",
              "  <tbody>\n",
              "    <tr>\n",
              "      <th>count</th>\n",
              "      <td>45767</td>\n",
              "      <td>45767</td>\n",
              "      <td>45767</td>\n",
              "      <td>45767</td>\n",
              "      <td>45767</td>\n",
              "      <td>45767</td>\n",
              "      <td>45767</td>\n",
              "      <td>45767</td>\n",
              "      <td>45767</td>\n",
              "    </tr>\n",
              "    <tr>\n",
              "      <th>unique</th>\n",
              "      <td>45767</td>\n",
              "      <td>4</td>\n",
              "      <td>107</td>\n",
              "      <td>108</td>\n",
              "      <td>4</td>\n",
              "      <td>29</td>\n",
              "      <td>34</td>\n",
              "      <td>45</td>\n",
              "      <td>4</td>\n",
              "    </tr>\n",
              "    <tr>\n",
              "      <th>top</th>\n",
              "      <td>Reptile-Museum/augimg/Rafetus swinhoei/yRafetu...</td>\n",
              "      <td>Snake</td>\n",
              "      <td>Black rat snake</td>\n",
              "      <td>Lycodonomorphus rufulus</td>\n",
              "      <td>Low Risk</td>\n",
              "      <td>Forest</td>\n",
              "      <td>Brown</td>\n",
              "      <td>North America</td>\n",
              "      <td>Carnivore</td>\n",
              "    </tr>\n",
              "    <tr>\n",
              "      <th>freq</th>\n",
              "      <td>1</td>\n",
              "      <td>14135</td>\n",
              "      <td>920</td>\n",
              "      <td>568</td>\n",
              "      <td>18503</td>\n",
              "      <td>8288</td>\n",
              "      <td>9896</td>\n",
              "      <td>6080</td>\n",
              "      <td>28135</td>\n",
              "    </tr>\n",
              "  </tbody>\n",
              "</table>\n",
              "</div>\n",
              "      <button class=\"colab-df-convert\" onclick=\"convertToInteractive('df-fe238b91-8305-4243-a49a-64ba5b1cf2da')\"\n",
              "              title=\"Convert this dataframe to an interactive table.\"\n",
              "              style=\"display:none;\">\n",
              "        \n",
              "  <svg xmlns=\"http://www.w3.org/2000/svg\" height=\"24px\"viewBox=\"0 0 24 24\"\n",
              "       width=\"24px\">\n",
              "    <path d=\"M0 0h24v24H0V0z\" fill=\"none\"/>\n",
              "    <path d=\"M18.56 5.44l.94 2.06.94-2.06 2.06-.94-2.06-.94-.94-2.06-.94 2.06-2.06.94zm-11 1L8.5 8.5l.94-2.06 2.06-.94-2.06-.94L8.5 2.5l-.94 2.06-2.06.94zm10 10l.94 2.06.94-2.06 2.06-.94-2.06-.94-.94-2.06-.94 2.06-2.06.94z\"/><path d=\"M17.41 7.96l-1.37-1.37c-.4-.4-.92-.59-1.43-.59-.52 0-1.04.2-1.43.59L10.3 9.45l-7.72 7.72c-.78.78-.78 2.05 0 2.83L4 21.41c.39.39.9.59 1.41.59.51 0 1.02-.2 1.41-.59l7.78-7.78 2.81-2.81c.8-.78.8-2.07 0-2.86zM5.41 20L4 18.59l7.72-7.72 1.47 1.35L5.41 20z\"/>\n",
              "  </svg>\n",
              "      </button>\n",
              "      \n",
              "  <style>\n",
              "    .colab-df-container {\n",
              "      display:flex;\n",
              "      flex-wrap:wrap;\n",
              "      gap: 12px;\n",
              "    }\n",
              "\n",
              "    .colab-df-convert {\n",
              "      background-color: #E8F0FE;\n",
              "      border: none;\n",
              "      border-radius: 50%;\n",
              "      cursor: pointer;\n",
              "      display: none;\n",
              "      fill: #1967D2;\n",
              "      height: 32px;\n",
              "      padding: 0 0 0 0;\n",
              "      width: 32px;\n",
              "    }\n",
              "\n",
              "    .colab-df-convert:hover {\n",
              "      background-color: #E2EBFA;\n",
              "      box-shadow: 0px 1px 2px rgba(60, 64, 67, 0.3), 0px 1px 3px 1px rgba(60, 64, 67, 0.15);\n",
              "      fill: #174EA6;\n",
              "    }\n",
              "\n",
              "    [theme=dark] .colab-df-convert {\n",
              "      background-color: #3B4455;\n",
              "      fill: #D2E3FC;\n",
              "    }\n",
              "\n",
              "    [theme=dark] .colab-df-convert:hover {\n",
              "      background-color: #434B5C;\n",
              "      box-shadow: 0px 1px 3px 1px rgba(0, 0, 0, 0.15);\n",
              "      filter: drop-shadow(0px 1px 2px rgba(0, 0, 0, 0.3));\n",
              "      fill: #FFFFFF;\n",
              "    }\n",
              "  </style>\n",
              "\n",
              "      <script>\n",
              "        const buttonEl =\n",
              "          document.querySelector('#df-fe238b91-8305-4243-a49a-64ba5b1cf2da button.colab-df-convert');\n",
              "        buttonEl.style.display =\n",
              "          google.colab.kernel.accessAllowed ? 'block' : 'none';\n",
              "\n",
              "        async function convertToInteractive(key) {\n",
              "          const element = document.querySelector('#df-fe238b91-8305-4243-a49a-64ba5b1cf2da');\n",
              "          const dataTable =\n",
              "            await google.colab.kernel.invokeFunction('convertToInteractive',\n",
              "                                                     [key], {});\n",
              "          if (!dataTable) return;\n",
              "\n",
              "          const docLinkHtml = 'Like what you see? Visit the ' +\n",
              "            '<a target=\"_blank\" href=https://colab.research.google.com/notebooks/data_table.ipynb>data table notebook</a>'\n",
              "            + ' to learn more about interactive tables.';\n",
              "          element.innerHTML = '';\n",
              "          dataTable['output_type'] = 'display_data';\n",
              "          await google.colab.output.renderOutput(dataTable, element);\n",
              "          const docLink = document.createElement('div');\n",
              "          docLink.innerHTML = docLinkHtml;\n",
              "          element.appendChild(docLink);\n",
              "        }\n",
              "      </script>\n",
              "    </div>\n",
              "  </div>\n",
              "  "
            ]
          },
          "metadata": {},
          "execution_count": 65
        }
      ]
    },
    {
      "cell_type": "code",
      "source": [
        "data[data['Conservation Status'] == 'Lower Risk']['Conservation Status'] = 'Low Risk '"
      ],
      "metadata": {
        "colab": {
          "base_uri": "https://localhost:8080/"
        },
        "id": "Z8xtPMhsCjYs",
        "outputId": "b3310078-40a9-4441-bfb4-108c960c5918"
      },
      "execution_count": 66,
      "outputs": [
        {
          "output_type": "stream",
          "name": "stderr",
          "text": [
            "<ipython-input-66-833f48e6b430>:1: SettingWithCopyWarning: \n",
            "A value is trying to be set on a copy of a slice from a DataFrame.\n",
            "Try using .loc[row_indexer,col_indexer] = value instead\n",
            "\n",
            "See the caveats in the documentation: https://pandas.pydata.org/pandas-docs/stable/user_guide/indexing.html#returning-a-view-versus-a-copy\n",
            "  data[data['Conservation Status'] == 'Lower Risk']['Conservation Status'] = 'Low Risk '\n"
          ]
        }
      ]
    },
    {
      "cell_type": "code",
      "source": [
        "categorical_columns = ['Type','Conservation Status','Habitant','Color','Diet']\n"
      ],
      "metadata": {
        "id": "N0nUfeL41ORu"
      },
      "execution_count": 67,
      "outputs": []
    },
    {
      "cell_type": "code",
      "source": [
        "plt.title(f'Different Type of animal and their Counts')\n",
        "name = data['Type'].value_counts()\n",
        "new_df = pd.DataFrame(name)\n",
        "sns.barplot(x = new_df.index,y = new_df['Type'].values)\n",
        "plt.show()"
      ],
      "metadata": {
        "colab": {
          "base_uri": "https://localhost:8080/",
          "height": 284
        },
        "id": "N5wsHDz_2o-4",
        "outputId": "335c0531-1e2b-4b44-aac7-308e5f97789a"
      },
      "execution_count": 68,
      "outputs": [
        {
          "output_type": "display_data",
          "data": {
            "text/plain": [
              "<Figure size 432x288 with 1 Axes>"
            ],
            "image/png": "[encoded data removed]"
          },
          "metadata": {}
        }
      ]
    },
    {
      "cell_type": "code",
      "source": [
        "name = data['Conservation Status'].value_counts()\n",
        "new_df = pd.DataFrame(name)\n",
        "sns.barplot(x = new_df.index,y = new_df['Conservation Status'].values)\n",
        "plt.xticks(rotation = 45)\n",
        "plt.show()"
      ],
      "metadata": {
        "colab": {
          "base_uri": "https://localhost:8080/",
          "height": 349
        },
        "id": "c_5PLMFe5KIn",
        "outputId": "e2ddd45e-ec38-48d2-afd0-f92eff2d6338"
      },
      "execution_count": 69,
      "outputs": [
        {
          "output_type": "display_data",
          "data": {
            "text/plain": [
              "<Figure size 432x288 with 1 Axes>"
            ],
            "image/png": "[encoded data removed]"
          },
          "metadata": {}
        }
      ]
    },
    {
      "cell_type": "code",
      "source": [
        "plt.figure(figsize=(20,5))\n",
        "name = data['Habitant'].value_counts()\n",
        "new_df = pd.DataFrame(name)\n",
        "sns.barplot(x = new_df.index,y = new_df['Habitant'].values)\n",
        "plt.xticks(rotation = 45)\n",
        "plt.show()"
      ],
      "metadata": {
        "colab": {
          "base_uri": "https://localhost:8080/",
          "height": 372
        },
        "id": "zuCa-shN5jbl",
        "outputId": "2ed4c6c6-8373-43fe-de61-37143e6600c2"
      },
      "execution_count": 70,
      "outputs": [
        {
          "output_type": "display_data",
          "data": {
            "text/plain": [
              "<Figure size 1440x360 with 1 Axes>"
            ],
            "image/png": "[encoded data removed]"
          },
          "metadata": {}
        }
      ]
    },
    {
      "cell_type": "code",
      "source": [
        "plt.figure(figsize=(20,5))\n",
        "name = data['Color'].value_counts()\n",
        "new_df = pd.DataFrame(name)\n",
        "sns.barplot(x = new_df.index,y = new_df['Color'].values)\n",
        "plt.xticks(rotation = 45)\n",
        "plt.show()"
      ],
      "metadata": {
        "colab": {
          "base_uri": "https://localhost:8080/",
          "height": 376
        },
        "id": "03hn_qAo5tCy",
        "outputId": "8a1d205d-17f0-4a7c-aa76-577c6f5e2028"
      },
      "execution_count": 71,
      "outputs": [
        {
          "output_type": "display_data",
          "data": {
            "text/plain": [
              "<Figure size 1440x360 with 1 Axes>"
            ],
            "image/png": "[encoded data removed]"
          },
          "metadata": {}
        }
      ]
    },
    {
      "cell_type": "code",
      "source": [
        "plt.figure(figsize=(20,5))\n",
        "name = data['Diet'].value_counts()\n",
        "new_df = pd.DataFrame(name)\n",
        "sns.barplot(x = new_df.index,y = new_df['Diet'].values)\n",
        "plt.xticks(rotation = 45)\n",
        "plt.show()"
      ],
      "metadata": {
        "colab": {
          "base_uri": "https://localhost:8080/",
          "height": 344
        },
        "id": "98kjnzMi7NQz",
        "outputId": "7f02908f-8af1-4730-f853-fc2542d731f0"
      },
      "execution_count": 72,
      "outputs": [
        {
          "output_type": "display_data",
          "data": {
            "text/plain": [
              "<Figure size 1440x360 with 1 Axes>"
            ],
            "image/png": "[encoded data removed]"
          },
          "metadata": {}
        }
      ]
    },
    {
      "cell_type": "code",
      "source": [
        "snake = data[data['Type'] == 'Snake']\n",
        "crocodile = data[data['Type'] == 'Crocodile']\n",
        "turtle = data[data['Type'] == 'Turtle']\n",
        "lizard = data[data['Type'] == 'Lizard']"
      ],
      "metadata": {
        "id": "PQrreDUh7fjN"
      },
      "execution_count": 73,
      "outputs": []
    },
    {
      "cell_type": "code",
      "source": [
        "\n",
        "name = snake['Diet'].value_counts()\n",
        "new_df = pd.DataFrame(name)\n",
        "sns.barplot(x = new_df.index,y = new_df['Diet'].values)\n",
        "plt.xticks(rotation = 45)\n",
        "plt.show()"
      ],
      "metadata": {
        "id": "owqNTwDZJ6F1",
        "outputId": "76fad6fb-5047-46d0-fdc4-bd25f012908c",
        "colab": {
          "base_uri": "https://localhost:8080/",
          "height": 303
        }
      },
      "execution_count": 74,
      "outputs": [
        {
          "output_type": "display_data",
          "data": {
            "text/plain": [
              "<Figure size 432x288 with 1 Axes>"
            ],
            "image/png": "[encoded data removed]"
          },
          "metadata": {}
        }
      ]
    },
    {
      "cell_type": "code",
      "source": [
        "\n",
        "name = turtle['Diet'].value_counts()\n",
        "new_df = pd.DataFrame(name)\n",
        "sns.barplot(x = new_df.index,y = new_df['Diet'].values)\n",
        "plt.xticks(rotation = 45)\n",
        "plt.show()"
      ],
      "metadata": {
        "id": "x34xL8K3KBvU",
        "outputId": "15c2817c-a972-4fd4-9910-0dbdf2c20047",
        "colab": {
          "base_uri": "https://localhost:8080/",
          "height": 307
        }
      },
      "execution_count": 75,
      "outputs": [
        {
          "output_type": "display_data",
          "data": {
            "text/plain": [
              "<Figure size 432x288 with 1 Axes>"
            ],
            "image/png": "[encoded data removed]"
          },
          "metadata": {}
        }
      ]
    },
    {
      "cell_type": "code",
      "source": [
        "name = lizard['Diet'].value_counts()\n",
        "new_df = pd.DataFrame(name)\n",
        "sns.barplot(x = new_df.index,y = new_df['Diet'].values)\n",
        "plt.xticks(rotation = 45)\n",
        "plt.show()"
      ],
      "metadata": {
        "id": "AyLudZ_ZKI9N",
        "outputId": "0bcde2a0-51b6-4c27-bfe8-dbbaa3cab9f8",
        "colab": {
          "base_uri": "https://localhost:8080/",
          "height": 310
        }
      },
      "execution_count": 76,
      "outputs": [
        {
          "output_type": "display_data",
          "data": {
            "text/plain": [
              "<Figure size 432x288 with 1 Axes>"
            ],
            "image/png": "[encoded data removed]"
          },
          "metadata": {}
        }
      ]
    },
    {
      "cell_type": "code",
      "source": [
        "data.isnull().sum()"
      ],
      "metadata": {
        "id": "0RDNYWQgKNFI",
        "outputId": "137bd478-de08-45c2-f6d7-e9455b8dbe09",
        "colab": {
          "base_uri": "https://localhost:8080/"
        }
      },
      "execution_count": 77,
      "outputs": [
        {
          "output_type": "execute_result",
          "data": {
            "text/plain": [
              "Image                  0\n",
              "Type                   0\n",
              "Name                   0\n",
              "Scientific Name        0\n",
              "Conservation Status    0\n",
              "Habitant               0\n",
              "Color                  0\n",
              "Found In               0\n",
              "Diet                   0\n",
              "dtype: int64"
            ]
          },
          "metadata": {},
          "execution_count": 77
        }
      ]
    },
    {
      "cell_type": "code",
      "source": [
        "types = list(data['Type'].unique())\n",
        "name = list(data['Name'].unique())\n",
        "Sc_name = list(data['Scientific Name'].unique())\n",
        "cs = list(data['Conservation Status'].unique())\n",
        "habitat = list(data['Habitant'].unique())\n",
        "color = list(data['Color'].unique())\n",
        "found = list(data['Found In'].unique())\n",
        "diet = list(data['Diet'].unique())"
      ],
      "metadata": {
        "id": "9sb7Yru-LTDb"
      },
      "execution_count": 78,
      "outputs": []
    },
    {
      "cell_type": "code",
      "source": [
        "types"
      ],
      "metadata": {
        "colab": {
          "base_uri": "https://localhost:8080/"
        },
        "id": "KOdKLuDYbitN",
        "outputId": "b8281ed1-72fe-4759-8ef8-f22c81aa4e1b"
      },
      "execution_count": 79,
      "outputs": [
        {
          "output_type": "execute_result",
          "data": {
            "text/plain": [
              "['Turtle', 'Lizard', 'Snake', 'Crocodile']"
            ]
          },
          "metadata": {},
          "execution_count": 79
        }
      ]
    },
    {
      "cell_type": "code",
      "source": [
        "data['Type'] = data['Type'].map(lambda x: types.index(x))"
      ],
      "metadata": {
        "id": "Zimm1q26bkTn"
      },
      "execution_count": 80,
      "outputs": []
    },
    {
      "cell_type": "code",
      "source": [
        "data.head(2)"
      ],
      "metadata": {
        "colab": {
          "base_uri": "https://localhost:8080/",
          "height": 208
        },
        "id": "1ltaP9EScOX5",
        "outputId": "7a927136-eae0-46f4-b24a-2a478618499e"
      },
      "execution_count": 81,
      "outputs": [
        {
          "output_type": "execute_result",
          "data": {
            "text/plain": [
              "                                               Image  Type  \\\n",
              "0  Reptile-Museum/augimg/Rafetus swinhoei/yRafetu...     0   \n",
              "1  Reptile-Museum/augimg/Scelarcis perspicillata/...     1   \n",
              "\n",
              "                              Name          Scientific Name  \\\n",
              "0  Yangtze giant softshell turtle          Rafetus swinhoei   \n",
              "1          Moroccan rock lizard     Scelarcis perspicillata   \n",
              "\n",
              "     Conservation Status Habitant        Color Found In         Diet  \n",
              "0  Critically Endangered    River  Olive-Green    China     Omnivore  \n",
              "1              Low Risk    Desert        Brown  Morocco  Insectivore  "
            ],
            "text/html": [
              "\n",
              "  <div id=\"df-42061e23-f967-4a7e-9216-60ffba49ef26\">\n",
              "    <div class=\"colab-df-container\">\n",
              "      <div>\n",
              "<style scoped>\n",
              "    .dataframe tbody tr th:only-of-type {\n",
              "        vertical-align: middle;\n",
              "    }\n",
              "\n",
              "    .dataframe tbody tr th {\n",
              "        vertical-align: top;\n",
              "    }\n",
              "\n",
              "    .dataframe thead th {\n",
              "        text-align: right;\n",
              "    }\n",
              "</style>\n",
              "<table border=\"1\" class=\"dataframe\">\n",
              "  <thead>\n",
              "    <tr style=\"text-align: right;\">\n",
              "      <th></th>\n",
              "      <th>Image</th>\n",
              "      <th>Type</th>\n",
              "      <th>Name</th>\n",
              "      <th>Scientific Name</th>\n",
              "      <th>Conservation Status</th>\n",
              "      <th>Habitant</th>\n",
              "      <th>Color</th>\n",
              "      <th>Found In</th>\n",
              "      <th>Diet</th>\n",
              "    </tr>\n",
              "  </thead>\n",
              "  <tbody>\n",
              "    <tr>\n",
              "      <th>0</th>\n",
              "      <td>Reptile-Museum/augimg/Rafetus swinhoei/yRafetu...</td>\n",
              "      <td>0</td>\n",
              "      <td>Yangtze giant softshell turtle</td>\n",
              "      <td>Rafetus swinhoei</td>\n",
              "      <td>Critically Endangered</td>\n",
              "      <td>River</td>\n",
              "      <td>Olive-Green</td>\n",
              "      <td>China</td>\n",
              "      <td>Omnivore</td>\n",
              "    </tr>\n",
              "    <tr>\n",
              "      <th>1</th>\n",
              "      <td>Reptile-Museum/augimg/Scelarcis perspicillata/...</td>\n",
              "      <td>1</td>\n",
              "      <td>Moroccan rock lizard</td>\n",
              "      <td>Scelarcis perspicillata</td>\n",
              "      <td>Low Risk</td>\n",
              "      <td>Desert</td>\n",
              "      <td>Brown</td>\n",
              "      <td>Morocco</td>\n",
              "      <td>Insectivore</td>\n",
              "    </tr>\n",
              "  </tbody>\n",
              "</table>\n",
              "</div>\n",
              "      <button class=\"colab-df-convert\" onclick=\"convertToInteractive('df-42061e23-f967-4a7e-9216-60ffba49ef26')\"\n",
              "              title=\"Convert this dataframe to an interactive table.\"\n",
              "              style=\"display:none;\">\n",
              "        \n",
              "  <svg xmlns=\"http://www.w3.org/2000/svg\" height=\"24px\"viewBox=\"0 0 24 24\"\n",
              "       width=\"24px\">\n",
              "    <path d=\"M0 0h24v24H0V0z\" fill=\"none\"/>\n",
              "    <path d=\"M18.56 5.44l.94 2.06.94-2.06 2.06-.94-2.06-.94-.94-2.06-.94 2.06-2.06.94zm-11 1L8.5 8.5l.94-2.06 2.06-.94-2.06-.94L8.5 2.5l-.94 2.06-2.06.94zm10 10l.94 2.06.94-2.06 2.06-.94-2.06-.94-.94-2.06-.94 2.06-2.06.94z\"/><path d=\"M17.41 7.96l-1.37-1.37c-.4-.4-.92-.59-1.43-.59-.52 0-1.04.2-1.43.59L10.3 9.45l-7.72 7.72c-.78.78-.78 2.05 0 2.83L4 21.41c.39.39.9.59 1.41.59.51 0 1.02-.2 1.41-.59l7.78-7.78 2.81-2.81c.8-.78.8-2.07 0-2.86zM5.41 20L4 18.59l7.72-7.72 1.47 1.35L5.41 20z\"/>\n",
              "  </svg>\n",
              "      </button>\n",
              "      \n",
              "  <style>\n",
              "    .colab-df-container {\n",
              "      display:flex;\n",
              "      flex-wrap:wrap;\n",
              "      gap: 12px;\n",
              "    }\n",
              "\n",
              "    .colab-df-convert {\n",
              "      background-color: #E8F0FE;\n",
              "      border: none;\n",
              "      border-radius: 50%;\n",
              "      cursor: pointer;\n",
              "      display: none;\n",
              "      fill: #1967D2;\n",
              "      height: 32px;\n",
              "      padding: 0 0 0 0;\n",
              "      width: 32px;\n",
              "    }\n",
              "\n",
              "    .colab-df-convert:hover {\n",
              "      background-color: #E2EBFA;\n",
              "      box-shadow: 0px 1px 2px rgba(60, 64, 67, 0.3), 0px 1px 3px 1px rgba(60, 64, 67, 0.15);\n",
              "      fill: #174EA6;\n",
              "    }\n",
              "\n",
              "    [theme=dark] .colab-df-convert {\n",
              "      background-color: #3B4455;\n",
              "      fill: #D2E3FC;\n",
              "    }\n",
              "\n",
              "    [theme=dark] .colab-df-convert:hover {\n",
              "      background-color: #434B5C;\n",
              "      box-shadow: 0px 1px 3px 1px rgba(0, 0, 0, 0.15);\n",
              "      filter: drop-shadow(0px 1px 2px rgba(0, 0, 0, 0.3));\n",
              "      fill: #FFFFFF;\n",
              "    }\n",
              "  </style>\n",
              "\n",
              "      <script>\n",
              "        const buttonEl =\n",
              "          document.querySelector('#df-42061e23-f967-4a7e-9216-60ffba49ef26 button.colab-df-convert');\n",
              "        buttonEl.style.display =\n",
              "          google.colab.kernel.accessAllowed ? 'block' : 'none';\n",
              "\n",
              "        async function convertToInteractive(key) {\n",
              "          const element = document.querySelector('#df-42061e23-f967-4a7e-9216-60ffba49ef26');\n",
              "          const dataTable =\n",
              "            await google.colab.kernel.invokeFunction('convertToInteractive',\n",
              "                                                     [key], {});\n",
              "          if (!dataTable) return;\n",
              "\n",
              "          const docLinkHtml = 'Like what you see? Visit the ' +\n",
              "            '<a target=\"_blank\" href=https://colab.research.google.com/notebooks/data_table.ipynb>data table notebook</a>'\n",
              "            + ' to learn more about interactive tables.';\n",
              "          element.innerHTML = '';\n",
              "          dataTable['output_type'] = 'display_data';\n",
              "          await google.colab.output.renderOutput(dataTable, element);\n",
              "          const docLink = document.createElement('div');\n",
              "          docLink.innerHTML = docLinkHtml;\n",
              "          element.appendChild(docLink);\n",
              "        }\n",
              "      </script>\n",
              "    </div>\n",
              "  </div>\n",
              "  "
            ]
          },
          "metadata": {},
          "execution_count": 81
        }
      ]
    },
    {
      "cell_type": "code",
      "source": [
        "# data['Type'] = data['Type'].map(lambda x: types.index(x))\n",
        "data['Name'] = data['Name'].map(lambda x: name.index(x))\n",
        "data['Scientific Name'] = data['Scientific Name'].map(lambda x: Sc_name.index(x))\n",
        "data['Conservation Status'] = data['Conservation Status'].map(lambda x: cs.index(x))\n",
        "data['Habitant'] = data['Habitant'].map(lambda x: habitat.index(x))\n",
        "data['Color'] = data['Color'].map(lambda x: color.index(x))\n",
        "data['Found In'] = data['Found In'].map(lambda x: found.index(x))\n",
        "data['Diet'] = data['Diet'].map(lambda x: diet.index(x))"
      ],
      "metadata": {
        "id": "YqJmFTVscqjo"
      },
      "execution_count": 82,
      "outputs": []
    },
    {
      "cell_type": "code",
      "source": [
        "data.head(2)"
      ],
      "metadata": {
        "colab": {
          "base_uri": "https://localhost:8080/",
          "height": 112
        },
        "id": "e7uU1fnpeUIw",
        "outputId": "36804981-97f2-4f92-825f-c606d7c2d1ff"
      },
      "execution_count": 86,
      "outputs": [
        {
          "output_type": "execute_result",
          "data": {
            "text/plain": [
              "                                               Image  Type  Name  \\\n",
              "0  Reptile-Museum/augimg/Rafetus swinhoei/yRafetu...     0     0   \n",
              "1  Reptile-Museum/augimg/Scelarcis perspicillata/...     1     1   \n",
              "\n",
              "   Scientific Name  Conservation Status  Habitant  Color  Found In  Diet  \n",
              "0                0                    0         0      0         0     0  \n",
              "1                1                    1         1      1         1     1  "
            ],
            "text/html": [
              "\n",
              "  <div id=\"df-0e8255c3-7807-4201-994d-6cc3a25f96b4\">\n",
              "    <div class=\"colab-df-container\">\n",
              "      <div>\n",
              "<style scoped>\n",
              "    .dataframe tbody tr th:only-of-type {\n",
              "        vertical-align: middle;\n",
              "    }\n",
              "\n",
              "    .dataframe tbody tr th {\n",
              "        vertical-align: top;\n",
              "    }\n",
              "\n",
              "    .dataframe thead th {\n",
              "        text-align: right;\n",
              "    }\n",
              "</style>\n",
              "<table border=\"1\" class=\"dataframe\">\n",
              "  <thead>\n",
              "    <tr style=\"text-align: right;\">\n",
              "      <th></th>\n",
              "      <th>Image</th>\n",
              "      <th>Type</th>\n",
              "      <th>Name</th>\n",
              "      <th>Scientific Name</th>\n",
              "      <th>Conservation Status</th>\n",
              "      <th>Habitant</th>\n",
              "      <th>Color</th>\n",
              "      <th>Found In</th>\n",
              "      <th>Diet</th>\n",
              "    </tr>\n",
              "  </thead>\n",
              "  <tbody>\n",
              "    <tr>\n",
              "      <th>0</th>\n",
              "      <td>Reptile-Museum/augimg/Rafetus swinhoei/yRafetu...</td>\n",
              "      <td>0</td>\n",
              "      <td>0</td>\n",
              "      <td>0</td>\n",
              "      <td>0</td>\n",
              "      <td>0</td>\n",
              "      <td>0</td>\n",
              "      <td>0</td>\n",
              "      <td>0</td>\n",
              "    </tr>\n",
              "    <tr>\n",
              "      <th>1</th>\n",
              "      <td>Reptile-Museum/augimg/Scelarcis perspicillata/...</td>\n",
              "      <td>1</td>\n",
              "      <td>1</td>\n",
              "      <td>1</td>\n",
              "      <td>1</td>\n",
              "      <td>1</td>\n",
              "      <td>1</td>\n",
              "      <td>1</td>\n",
              "      <td>1</td>\n",
              "    </tr>\n",
              "  </tbody>\n",
              "</table>\n",
              "</div>\n",
              "      <button class=\"colab-df-convert\" onclick=\"convertToInteractive('df-0e8255c3-7807-4201-994d-6cc3a25f96b4')\"\n",
              "              title=\"Convert this dataframe to an interactive table.\"\n",
              "              style=\"display:none;\">\n",
              "        \n",
              "  <svg xmlns=\"http://www.w3.org/2000/svg\" height=\"24px\"viewBox=\"0 0 24 24\"\n",
              "       width=\"24px\">\n",
              "    <path d=\"M0 0h24v24H0V0z\" fill=\"none\"/>\n",
              "    <path d=\"M18.56 5.44l.94 2.06.94-2.06 2.06-.94-2.06-.94-.94-2.06-.94 2.06-2.06.94zm-11 1L8.5 8.5l.94-2.06 2.06-.94-2.06-.94L8.5 2.5l-.94 2.06-2.06.94zm10 10l.94 2.06.94-2.06 2.06-.94-2.06-.94-.94-2.06-.94 2.06-2.06.94z\"/><path d=\"M17.41 7.96l-1.37-1.37c-.4-.4-.92-.59-1.43-.59-.52 0-1.04.2-1.43.59L10.3 9.45l-7.72 7.72c-.78.78-.78 2.05 0 2.83L4 21.41c.39.39.9.59 1.41.59.51 0 1.02-.2 1.41-.59l7.78-7.78 2.81-2.81c.8-.78.8-2.07 0-2.86zM5.41 20L4 18.59l7.72-7.72 1.47 1.35L5.41 20z\"/>\n",
              "  </svg>\n",
              "      </button>\n",
              "      \n",
              "  <style>\n",
              "    .colab-df-container {\n",
              "      display:flex;\n",
              "      flex-wrap:wrap;\n",
              "      gap: 12px;\n",
              "    }\n",
              "\n",
              "    .colab-df-convert {\n",
              "      background-color: #E8F0FE;\n",
              "      border: none;\n",
              "      border-radius: 50%;\n",
              "      cursor: pointer;\n",
              "      display: none;\n",
              "      fill: #1967D2;\n",
              "      height: 32px;\n",
              "      padding: 0 0 0 0;\n",
              "      width: 32px;\n",
              "    }\n",
              "\n",
              "    .colab-df-convert:hover {\n",
              "      background-color: #E2EBFA;\n",
              "      box-shadow: 0px 1px 2px rgba(60, 64, 67, 0.3), 0px 1px 3px 1px rgba(60, 64, 67, 0.15);\n",
              "      fill: #174EA6;\n",
              "    }\n",
              "\n",
              "    [theme=dark] .colab-df-convert {\n",
              "      background-color: #3B4455;\n",
              "      fill: #D2E3FC;\n",
              "    }\n",
              "\n",
              "    [theme=dark] .colab-df-convert:hover {\n",
              "      background-color: #434B5C;\n",
              "      box-shadow: 0px 1px 3px 1px rgba(0, 0, 0, 0.15);\n",
              "      filter: drop-shadow(0px 1px 2px rgba(0, 0, 0, 0.3));\n",
              "      fill: #FFFFFF;\n",
              "    }\n",
              "  </style>\n",
              "\n",
              "      <script>\n",
              "        const buttonEl =\n",
              "          document.querySelector('#df-0e8255c3-7807-4201-994d-6cc3a25f96b4 button.colab-df-convert');\n",
              "        buttonEl.style.display =\n",
              "          google.colab.kernel.accessAllowed ? 'block' : 'none';\n",
              "\n",
              "        async function convertToInteractive(key) {\n",
              "          const element = document.querySelector('#df-0e8255c3-7807-4201-994d-6cc3a25f96b4');\n",
              "          const dataTable =\n",
              "            await google.colab.kernel.invokeFunction('convertToInteractive',\n",
              "                                                     [key], {});\n",
              "          if (!dataTable) return;\n",
              "\n",
              "          const docLinkHtml = 'Like what you see? Visit the ' +\n",
              "            '<a target=\"_blank\" href=https://colab.research.google.com/notebooks/data_table.ipynb>data table notebook</a>'\n",
              "            + ' to learn more about interactive tables.';\n",
              "          element.innerHTML = '';\n",
              "          dataTable['output_type'] = 'display_data';\n",
              "          await google.colab.output.renderOutput(dataTable, element);\n",
              "          const docLink = document.createElement('div');\n",
              "          docLink.innerHTML = docLinkHtml;\n",
              "          element.appendChild(docLink);\n",
              "        }\n",
              "      </script>\n",
              "    </div>\n",
              "  </div>\n",
              "  "
            ]
          },
          "metadata": {},
          "execution_count": 86
        }
      ]
    },
    {
      "cell_type": "code",
      "source": [
        "\n",
        "import json\n",
        "with open('/content/Reptile-Museum/notebook/type.json', 'w') as f:\n",
        "    json.dump(types, f)\n",
        "\n",
        "with open('/content/Reptile-Museum/notebook/sc.json', 'w') as f:\n",
        "    json.dump(Sc_name, f)\n",
        "\n",
        "with open('/content/Reptile-Museum/notebook/cs.json', 'w') as f:\n",
        "    json.dump(cs, f)\n",
        "\n",
        "with open('/content/Reptile-Museum/notebook/habitat.json', 'w') as f:\n",
        "    json.dump(habitat, f)\n",
        "\n",
        "with open('/content/Reptile-Museum/notebook/color.json', 'w') as f:\n",
        "    json.dump(color, f)\n",
        "\n",
        "with open('/content/Reptile-Museum/notebook/found.json', 'w') as f:\n",
        "    json.dump(found, f)\n",
        "\n",
        "with open('/content/Reptile-Museum/notebook/name.json', 'w') as f:\n",
        "    json.dump(name, f)\n",
        "\n",
        "with open('/content/Reptile-Museum/notebook/diet.json', 'w') as f:\n",
        "    json.dump(diet, f)\n"
      ],
      "metadata": {
        "id": "Avb0P-2OeiVM"
      },
      "execution_count": 87,
      "outputs": []
    },
    {
      "cell_type": "code",
      "source": [
        "data.to_csv('/content/Reptile-Museum/data/final_csv.csv',index=False)"
      ],
      "metadata": {
        "id": "QSbGdUzrfqeb"
      },
      "execution_count": 85,
      "outputs": []
    },
    {
      "cell_type": "code",
      "source": [],
      "metadata": {
        "id": "nVz8oJ5E0OAq"
      },
      "execution_count": 85,
      "outputs": []
    }
  ]
}